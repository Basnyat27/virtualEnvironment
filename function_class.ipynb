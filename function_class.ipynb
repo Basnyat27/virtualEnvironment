{
 "cells": [
  {
   "cell_type": "code",
   "execution_count": 1,
   "id": "29e2f7d4",
   "metadata": {},
   "outputs": [
    {
     "name": "stdout",
     "output_type": "stream",
     "text": [
      "Max val in tuple: 8\n"
     ]
    }
   ],
   "source": [
    "# With initializing 'max = array[0]' i.e 1st el of array\n",
    "tup = (5, 2, 1, 4, 3, 8)\n",
    "max = tup[0]     #here initialize\n",
    "for i in tup:\n",
    "    if i > max:\n",
    "        max = i\n",
    "print(\"Max val in tuple:\", max)"
   ]
  },
  {
   "cell_type": "code",
   "execution_count": 3,
   "id": "e12c9e7b",
   "metadata": {},
   "outputs": [
    {
     "name": "stdout",
     "output_type": "stream",
     "text": [
      "From findMax(): 4\n"
     ]
    }
   ],
   "source": [
    "# With function \n",
    "tup = (2, 1, 4, 3)\n",
    "\n",
    "def findMax(param):\n",
    "    max = param[0]     #here initialize\n",
    "    for i in param:\n",
    "        if i > max:\n",
    "            max = i\n",
    "    return max\n",
    "\n",
    "print(\"From findMax():\", findMax(tup))"
   ]
  },
  {
   "cell_type": "code",
   "execution_count": 4,
   "id": "ff2347b3",
   "metadata": {},
   "outputs": [
    {
     "name": "stdout",
     "output_type": "stream",
     "text": [
      "From findMin(): 1\n"
     ]
    }
   ],
   "source": [
    "# Minimum value find\n",
    "tup = (5, 2, 1, 4, 3, 8)\n",
    "def findMin(param):\n",
    "    min = param[0]\n",
    "    for i in param:\n",
    "        if i < min:\n",
    "            min = i\n",
    "    return min\n",
    "\n",
    "print(\"From findMin():\",findMin(tup))"
   ]
  },
  {
   "cell_type": "code",
   "execution_count": 9,
   "id": "412752b6",
   "metadata": {},
   "outputs": [
    {
     "name": "stdout",
     "output_type": "stream",
     "text": [
      "<class 'tuple'>\n",
      "<class 'str'>\n"
     ]
    }
   ],
   "source": [
    "# Checking types\n",
    "tup = (1,)\n",
    "print(type(tup))\n",
    "\n",
    "\n",
    "def method(param):\n",
    "    return param    \n",
    "print(type(method(\"Himal\")))    #by default method type is NoneType"
   ]
  }
 ],
 "metadata": {
  "kernelspec": {
   "display_name": "virtualEnv",
   "language": "python",
   "name": "python3"
  },
  "language_info": {
   "codemirror_mode": {
    "name": "ipython",
    "version": 3
   },
   "file_extension": ".py",
   "mimetype": "text/x-python",
   "name": "python",
   "nbconvert_exporter": "python",
   "pygments_lexer": "ipython3",
   "version": "3.13.7"
  }
 },
 "nbformat": 4,
 "nbformat_minor": 5
}
