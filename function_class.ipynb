{
 "cells": [
  {
   "cell_type": "code",
   "execution_count": 1,
   "id": "29e2f7d4",
   "metadata": {},
   "outputs": [
    {
     "name": "stdout",
     "output_type": "stream",
     "text": [
      "Max val in tuple: 8\n"
     ]
    }
   ],
   "source": [
    "# With initializing 'max = array[0]' i.e 1st el of array\n",
    "tup = (5, 2, 1, 4, 3, 8)\n",
    "max = tup[0]     #here initialize\n",
    "for i in tup:\n",
    "    if i > max:\n",
    "        max = i\n",
    "print(\"Max val in tuple:\", max)"
   ]
  },
  {
   "cell_type": "code",
   "execution_count": 3,
   "id": "e12c9e7b",
   "metadata": {},
   "outputs": [
    {
     "name": "stdout",
     "output_type": "stream",
     "text": [
      "From findMax(): 4\n"
     ]
    }
   ],
   "source": [
    "# With function \n",
    "tup = (2, 1, 4, 3)\n",
    "\n",
    "def findMax(param):\n",
    "    max = param[0]     #here initialize\n",
    "    for i in param:\n",
    "        if i > max:\n",
    "            max = i\n",
    "    return max\n",
    "\n",
    "print(\"From findMax():\", findMax(tup))"
   ]
  },
  {
   "cell_type": "code",
   "execution_count": 4,
   "id": "ff2347b3",
   "metadata": {},
   "outputs": [
    {
     "name": "stdout",
     "output_type": "stream",
     "text": [
      "From findMin(): 1\n"
     ]
    }
   ],
   "source": [
    "# Minimum value find\n",
    "tup = (5, 2, 1, 4, 3, 8)\n",
    "def findMin(param):\n",
    "    min = param[0]\n",
    "    for i in param:\n",
    "        if i < min:\n",
    "            min = i\n",
    "    return min\n",
    "\n",
    "print(\"From findMin():\",findMin(tup))"
   ]
  },
  {
   "cell_type": "code",
   "execution_count": 9,
   "id": "412752b6",
   "metadata": {},
   "outputs": [
    {
     "name": "stdout",
     "output_type": "stream",
     "text": [
      "<class 'tuple'>\n",
      "<class 'str'>\n"
     ]
    }
   ],
   "source": [
    "# Checking types\n",
    "tup = (1,)\n",
    "print(type(tup))\n",
    "\n",
    "\n",
    "def method(param):\n",
    "    return param    \n",
    "print(type(method(\"Himal\")))    #by default method type is NoneType"
   ]
  },
  {
   "cell_type": "code",
   "execution_count": null,
   "id": "01349b6d",
   "metadata": {},
   "outputs": [
    {
     "name": "stdout",
     "output_type": "stream",
     "text": [
      "[1, 2, 3, 4]\n",
      "Max is 4\n",
      "Min is 1\n"
     ]
    }
   ],
   "source": [
    "# Using bubble sort\n",
    "tup = [2, 1, 4, 3]\n",
    "def findMinMax(par):\n",
    "    i=0\n",
    "    j=0\n",
    "    while i < len(par)-1:\n",
    "        while j < len(par)-i-1:\n",
    "            if par[j] > par[j+1]:\n",
    "                par[j], par[j+1] = par[j+1], par[j]  #Assignment error in tuple due to immutable behavior\n",
    "            j += 1\n",
    "        i += 1\n",
    "    print(par)\n",
    "    print(\"Max is\", par[-1])\n",
    "    print(\"Min is\", par[0])\n",
    "\n",
    "findMinMax(tup) \n",
    "# Loop over perform even though after sorting complete"
   ]
  },
  {
   "cell_type": "code",
   "execution_count": 31,
   "id": "7e8b5290",
   "metadata": {},
   "outputs": [
    {
     "name": "stdout",
     "output_type": "stream",
     "text": [
      "[1, 2, 3, 4]\n",
      "Max: 4\n",
      "Min: 1\n"
     ]
    }
   ],
   "source": [
    "# Using selection sort in list not in tuple\n",
    "col = [4, 1, 3, 2]\n",
    "def findMaxMin(lis):\n",
    "    i = 0\n",
    "    while i < len(lis) - 1:  # last element will already be in place\n",
    "        j = i+1  # for unsorted numbers\n",
    "        while j < len(lis):\n",
    "            if lis[j] < lis[i]:\n",
    "                lis[i], lis[j] = lis[j], lis[i]  # swap\n",
    "            j += 1\n",
    "        i += 1\n",
    "    \n",
    "    print(lis)\n",
    "    print(\"Max:\", lis[-1])\n",
    "    print(\"Min:\", lis[0])\n",
    "\n",
    "findMaxMin(col)   # calling method using col as argument"
   ]
  },
  {
   "cell_type": "markdown",
   "id": "73f7bcd2",
   "metadata": {},
   "source": [
    "# Thank you for pushing me to this hard"
   ]
  }
 ],
 "metadata": {
  "kernelspec": {
   "display_name": "virtualEnv",
   "language": "python",
   "name": "python3"
  },
  "language_info": {
   "codemirror_mode": {
    "name": "ipython",
    "version": 3
   },
   "file_extension": ".py",
   "mimetype": "text/x-python",
   "name": "python",
   "nbconvert_exporter": "python",
   "pygments_lexer": "ipython3",
   "version": "3.13.7"
  }
 },
 "nbformat": 4,
 "nbformat_minor": 5
}
