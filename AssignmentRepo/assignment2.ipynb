{
 "cells": [
  {
   "cell_type": "code",
   "execution_count": null,
   "id": "86249545",
   "metadata": {},
   "outputs": [
    {
     "data": {
      "text/plain": [
       "('Mean is', 30.0)"
      ]
     },
     "execution_count": 2,
     "metadata": {},
     "output_type": "execute_result"
    }
   ],
   "source": [
    "import mystats  #fetching module 'mystats.py' file or module\n",
    "\n",
    "numbers = [10, 20, 30, 40, 50]\n",
    "mystats.mean(numbers)   #calling mean() through 'mystats' module"
   ]
  },
  {
   "cell_type": "code",
   "execution_count": 3,
   "id": "f63d5bd3",
   "metadata": {},
   "outputs": [
    {
     "data": {
      "text/plain": [
       "('Median is', 30)"
      ]
     },
     "execution_count": 3,
     "metadata": {},
     "output_type": "execute_result"
    }
   ],
   "source": [
    "mystats.median(numbers)"
   ]
  },
  {
   "cell_type": "code",
   "execution_count": 2,
   "id": "1c5cb24a",
   "metadata": {},
   "outputs": [
    {
     "name": "stdout",
     "output_type": "stream",
     "text": [
      "[10, 20, 24, 20, 30, 24, 40]\n"
     ]
    }
   ],
   "source": [
    "import datacleaning.missing    #fetching 'missing.py' module from 'datacleaning' package\n",
    "\n",
    "data = [10, 20, None, 20, 30, None, 40]\n",
    "datacleaning.missing.fill_missing_with_mean(data)   #calling through module"
   ]
  },
  {
   "cell_type": "code",
   "execution_count": 4,
   "id": "edcad8d1",
   "metadata": {},
   "outputs": [
    {
     "name": "stdout",
     "output_type": "stream",
     "text": [
      "{40, 10, 20, 30}\n"
     ]
    }
   ],
   "source": [
    "datacleaning.duplicates.remove_duplicates(data)    #calling through module "
   ]
  }
 ],
 "metadata": {
  "kernelspec": {
   "display_name": "virtualEnv",
   "language": "python",
   "name": "python3"
  },
  "language_info": {
   "codemirror_mode": {
    "name": "ipython",
    "version": 3
   },
   "file_extension": ".py",
   "mimetype": "text/x-python",
   "name": "python",
   "nbconvert_exporter": "python",
   "pygments_lexer": "ipython3",
   "version": "3.13.7"
  }
 },
 "nbformat": 4,
 "nbformat_minor": 5
}
