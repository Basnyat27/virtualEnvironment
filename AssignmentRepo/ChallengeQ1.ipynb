{
 "cells": [
  {
   "cell_type": "markdown",
   "id": "e5f00376",
   "metadata": {},
   "source": [
    "# Advanced Data Analytics Challenges with Python Data Structures"
   ]
  },
  {
   "cell_type": "markdown",
   "id": "e3e9d67a",
   "metadata": {},
   "source": [
    "### 1. E-commerce Platform Analytics"
   ]
  },
  {
   "cell_type": "code",
   "execution_count": 1,
   "id": "5bd1b246",
   "metadata": {},
   "outputs": [],
   "source": [
    "# Dataset:\n",
    "ecommerce = {\n",
    "    \"Electronics\": {\n",
    "        \"products\": [\"Laptop\", \"Phone\", \"Tablet\"],\n",
    "        \"prices\": (800, 600, 300),\n",
    "        \"buyers\": {\"Alice\", \"Bob\", \"Charlie\"}\n",
    "    },\n",
    "    \"Clothing\": {\n",
    "        \"products\": [\"Shirt\", \"Jeans\", \"Jacket\"],\n",
    "        \"prices\": (40, 60, 120),\n",
    "        \"buyers\": {\"Alice\", \"David\"}\n",
    "    },\n",
    "    \"Books\": {\n",
    "        \"products\": [\"Novel\", \"Comics\"],\n",
    "        \"prices\": (15, 20),\n",
    "        \"buyers\": {\"Charlie\", \"Eve\", \"Frank\"}\n",
    "    }\n",
    "}\n"
   ]
  },
  {
   "cell_type": "code",
   "execution_count": 2,
   "id": "a95fbf84",
   "metadata": {},
   "outputs": [
    {
     "name": "stdout",
     "output_type": "stream",
     "text": [
      "{'David', 'Charlie', 'Bob', 'Alice', 'Frank', 'Eve'}\n"
     ]
    }
   ],
   "source": [
    "# Q1. Find the total number of unique buyers across all categories.\n",
    "uniqueBuyers = set()\n",
    "for i in ecommerce.values():\n",
    "    # print(i[\"buyers\"])\n",
    "    for j in i[\"buyers\"]:\n",
    "        uniqueBuyers.add(j)\n",
    "\n",
    "print(uniqueBuyers)"
   ]
  },
  {
   "cell_type": "code",
   "execution_count": 3,
   "id": "37b73667",
   "metadata": {},
   "outputs": [
    {
     "name": "stdout",
     "output_type": "stream",
     "text": [
      "566.6666666666666\n",
      "73.33333333333333\n",
      "17.5\n"
     ]
    }
   ],
   "source": [
    "# Q2. Calculate the average price of products per category.\n",
    "for i in ecommerce.values():\n",
    "    # print(i[\"prices\"])\n",
    "    print(sum(i[\"prices\"])/len(i[\"prices\"]))"
   ]
  },
  {
   "cell_type": "code",
   "execution_count": null,
   "id": "391748dc",
   "metadata": {},
   "outputs": [
    {
     "name": "stdout",
     "output_type": "stream",
     "text": [
      "Electronics 3\n"
     ]
    }
   ],
   "source": [
    "# Q3. Identify the category with the maximum buyers. ---> (Need to consult!)\n",
    "maxCustomers = 0\n",
    "topCategory = \"\"\n",
    "\n",
    "for i, j in ecommerce.items():\n",
    "    # print(i, j[\"buyers\"])\n",
    "    # print(i, len(j[\"buyers\"]))\n",
    "    if len(j[\"buyers\"]) > maxCustomers:\n",
    "        maxCustomers = len(j[\"buyers\"])\n",
    "        topCategory = i\n",
    "    \n",
    "print(topCategory, maxCustomers)    #'Books' category also have same number of customers as 'Electronics' have"
   ]
  },
  {
   "cell_type": "code",
   "execution_count": 6,
   "id": "765b6b31",
   "metadata": {},
   "outputs": [
    {
     "name": "stdout",
     "output_type": "stream",
     "text": [
      "{'Alice'}\n",
      "{'Alice'}\n"
     ]
    }
   ],
   "source": [
    "# Q4. Find buyers who purchased from both Electronics and Clothing.\n",
    "# print(ecommerce.get(\"Electronics\"))\n",
    "setA = set()\n",
    "setB = set()\n",
    "\n",
    "for i in ecommerce.get(\"Electronics\").get(\"buyers\"):\n",
    "    # print(i)\n",
    "    setA.add(i)\n",
    "\n",
    "for i in ecommerce.get(\"Clothing\").get(\"buyers\"):\n",
    "    setB.add(i)\n",
    "\n",
    "print(setA & setB)  #Common user from both categories\n",
    "\n",
    "#OR------------------------------------------------------------------------------------------\n",
    "setA = set(ecommerce[\"Electronics\"][\"buyers\"])\n",
    "setB = set(ecommerce[\"Clothing\"][\"buyers\"])\n",
    "\n",
    "print(setA & setB)"
   ]
  },
  {
   "cell_type": "code",
   "execution_count": 7,
   "id": "200cf864",
   "metadata": {},
   "outputs": [],
   "source": [
    "# Q5. Rank categories based on the number of products they contain.\n",
    "# Dataset have no products sold quantity!"
   ]
  }
 ],
 "metadata": {
  "kernelspec": {
   "display_name": "virtualEnv",
   "language": "python",
   "name": "python3"
  },
  "language_info": {
   "codemirror_mode": {
    "name": "ipython",
    "version": 3
   },
   "file_extension": ".py",
   "mimetype": "text/x-python",
   "name": "python",
   "nbconvert_exporter": "python",
   "pygments_lexer": "ipython3",
   "version": "3.13.7"
  }
 },
 "nbformat": 4,
 "nbformat_minor": 5
}
