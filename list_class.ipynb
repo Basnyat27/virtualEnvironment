{
 "cells": [
  {
   "cell_type": "code",
   "execution_count": 2,
   "id": "c6abb550",
   "metadata": {},
   "outputs": [
    {
     "name": "stdout",
     "output_type": "stream",
     "text": [
      "hello DA world\n"
     ]
    }
   ],
   "source": [
    "print(\"hello DA world\")"
   ]
  },
  {
   "cell_type": "code",
   "execution_count": 4,
   "id": "4536ffa4",
   "metadata": {},
   "outputs": [
    {
     "name": "stdout",
     "output_type": "stream",
     "text": [
      "['himal', 'basnet']\n"
     ]
    }
   ],
   "source": [
    "li=[\"himal\",\"basnet\"]\n",
    "print(li)"
   ]
  },
  {
   "cell_type": "code",
   "execution_count": 2,
   "id": "43e48b42",
   "metadata": {},
   "outputs": [
    {
     "name": "stdout",
     "output_type": "stream",
     "text": [
      "matrix addition: [[8, 10, 12], [7, 7, 7]]\n"
     ]
    }
   ],
   "source": [
    "list1=[[1,2,3],[4,5,6]]\n",
    "list2=[[7,8,9],[3,2,1]]\n",
    "list3=[[],[]]\n",
    "\n",
    "outerIndex=0\n",
    "innerIndex=0\n",
    "while outerIndex < 2:\n",
    "    while innerIndex < 3:\n",
    "        item = list1[outerIndex][innerIndex] + list2[outerIndex][innerIndex]\n",
    "        list3[outerIndex].append(item)\n",
    "        innerIndex += 1\n",
    "    \n",
    "    innerIndex=0\n",
    "    outerIndex += 1\n",
    "print(\"matrix addition:\", list3)"
   ]
  },
  {
   "cell_type": "code",
   "execution_count": 1,
   "id": "a277436b",
   "metadata": {},
   "outputs": [
    {
     "name": "stdout",
     "output_type": "stream",
     "text": [
      "matrix multiplication: [[13, 12], [43, 42]]\n"
     ]
    }
   ],
   "source": [
    "list1 = [[1,2],\n",
    "         [4,5]]\n",
    "\n",
    "list2 = [[7,8],\n",
    "         [3,2]]\n",
    "\n",
    "list3 = [[0,0,],\n",
    "         [0,0]] \n",
    "\n",
    "for i in range(len(list1)):        \n",
    "    for j in range(len(list2[0])):\n",
    "        sum = 0\n",
    "        for k in range(len(list1[0])):\n",
    "            sum += list1[i][k] * list2[k][j]\n",
    "        list3[i][j] = sum\n",
    "\n",
    "print(\"matrix multiplication:\", list3)"
   ]
  },
  {
   "cell_type": "code",
   "execution_count": 1,
   "id": "2ee14a53",
   "metadata": {},
   "outputs": [
    {
     "name": "stdout",
     "output_type": "stream",
     "text": [
      "LCM: 36\n"
     ]
    }
   ],
   "source": [
    "a = 9\n",
    "b = 12\n",
    "\n",
    "collection = []\n",
    "\n",
    "for count in range(max(a, b), a * b + 1):\n",
    "    if count % a == 0 and count % b == 0:\n",
    "        collection.append(count)\n",
    "        break\n",
    "\n",
    "print(\"LCM:\", collection[0])"
   ]
  }
 ],
 "metadata": {
  "kernelspec": {
   "display_name": "virtualEnv",
   "language": "python",
   "name": "python3"
  },
  "language_info": {
   "codemirror_mode": {
    "name": "ipython",
    "version": 3
   },
   "file_extension": ".py",
   "mimetype": "text/x-python",
   "name": "python",
   "nbconvert_exporter": "python",
   "pygments_lexer": "ipython3",
   "version": "3.13.7"
  }
 },
 "nbformat": 4,
 "nbformat_minor": 5
}
