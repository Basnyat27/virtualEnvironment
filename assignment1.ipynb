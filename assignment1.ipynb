{
 "cells": [
  {
   "cell_type": "code",
   "execution_count": 2,
   "id": "751b45e2",
   "metadata": {},
   "outputs": [],
   "source": [
    "dataset = [\n",
    "    {\"region\":\"butwal\", \"sale\":25000, \"profit\":10.2},\n",
    "    {\"region\":\"ktm\", \"sale\":50000, \"profit\":21.6},\n",
    "    {\"region\":\"gulmi\", \"sale\":10000, \"profit\":8.8},\n",
    "    {\"region\":\"pokhara\", \"sale\":60000, \"profit\":17.3}\n",
    "\n",
    "]"
   ]
  },
  {
   "cell_type": "code",
   "execution_count": 3,
   "id": "160caaed",
   "metadata": {},
   "outputs": [
    {
     "name": "stdout",
     "output_type": "stream",
     "text": [
      "0th index info: ('region', 'butwal')\n",
      "0th index info: ('sale', 25000)\n",
      "0th index info: ('profit', 10.2)\n"
     ]
    }
   ],
   "source": [
    "def loadData(param):\n",
    "    for datas in param[0].items():\n",
    "        # print(datas)\n",
    "        # print(type(datas))\n",
    "        print(\"0th index info:\",datas)\n",
    "\n",
    "loadData(dataset)"
   ]
  },
  {
   "cell_type": "code",
   "execution_count": 4,
   "id": "2c321a45",
   "metadata": {},
   "outputs": [
    {
     "name": "stdout",
     "output_type": "stream",
     "text": [
      "Total Sales: 145000\n"
     ]
    }
   ],
   "source": [
    "def totalSales(param):\n",
    "    tSum = sum( data[\"sale\"] for data in param)\n",
    "    # print(type(tSum))\n",
    "    print(\"Total Sales:\",tSum)\n",
    "\n",
    "totalSales(dataset)"
   ]
  },
  {
   "cell_type": "code",
   "execution_count": 5,
   "id": "dc6d6296",
   "metadata": {},
   "outputs": [
    {
     "name": "stdout",
     "output_type": "stream",
     "text": [
      "Total profit percent: 20.441897167538833\n"
     ]
    }
   ],
   "source": [
    "def totalProfit(param):\n",
    "    totalActualCost = 0\n",
    "    totalProfitSale = 0\n",
    "    for data in param:\n",
    "        profitPerSale = (data[\"profit\"]/100) * data[\"sale\"]\n",
    "        actualCost = data[\"sale\"] - profitPerSale\n",
    "\n",
    "        totalProfitSale += profitPerSale\n",
    "        totalActualCost += actualCost\n",
    "    \n",
    "    totalProfitPercent = (totalProfitSale / totalActualCost) * 100\n",
    "\n",
    "    print(\"Total profit percent:\",totalProfitPercent)\n",
    "\n",
    "totalProfit(dataset)"
   ]
  },
  {
   "cell_type": "code",
   "execution_count": 6,
   "id": "d5c12b59",
   "metadata": {},
   "outputs": [
    {
     "name": "stdout",
     "output_type": "stream",
     "text": [
      "butwal 25000\n",
      "ktm 50000\n",
      "gulmi 10000\n",
      "pokhara 60000\n"
     ]
    }
   ],
   "source": [
    "def salesByRegion(param):\n",
    "    for data in param:\n",
    "        print(data[\"region\"], data[\"sale\"])\n",
    "\n",
    "salesByRegion(dataset)"
   ]
  },
  {
   "cell_type": "code",
   "execution_count": 7,
   "id": "09c8cb9f",
   "metadata": {},
   "outputs": [
    {
     "name": "stdout",
     "output_type": "stream",
     "text": [
      "<class 'tuple'>\n",
      "(60000, 'pokhara')\n"
     ]
    }
   ],
   "source": [
    "def topSalesRegion(param):\n",
    "    maxSale = param[0][\"sale\"]\n",
    "    topRegion = \"\"\n",
    "    for i in range(len(param)):\n",
    "        if param[i][\"sale\"] > maxSale:\n",
    "            maxSale = param[i][\"sale\"]\n",
    "            topRegion = param[i][\"region\"]\n",
    "\n",
    "    return maxSale, topRegion\n",
    "\n",
    "\n",
    "print (type(topSalesRegion(dataset)))   #why prints tuple class?\n",
    "print (topSalesRegion(dataset))"
   ]
  }
 ],
 "metadata": {
  "kernelspec": {
   "display_name": "virtualEnv",
   "language": "python",
   "name": "python3"
  },
  "language_info": {
   "codemirror_mode": {
    "name": "ipython",
    "version": 3
   },
   "file_extension": ".py",
   "mimetype": "text/x-python",
   "name": "python",
   "nbconvert_exporter": "python",
   "pygments_lexer": "ipython3",
   "version": "3.13.7"
  }
 },
 "nbformat": 4,
 "nbformat_minor": 5
}
