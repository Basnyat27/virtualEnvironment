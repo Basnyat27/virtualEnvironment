{
 "cells": [
  {
   "cell_type": "code",
   "execution_count": 5,
   "id": "bdebe4a2",
   "metadata": {},
   "outputs": [
    {
     "name": "stdout",
     "output_type": "stream",
     "text": [
      "{'ktm': {'sale': 10000, 'profit': 2000.6}, 'butwal': {'sale': 20000, 'profit': 3000.3}, 'pokhara': {'sale': 30000, 'profit': 4500.8}}\n"
     ]
    }
   ],
   "source": [
    "market = {\n",
    "    \"ktm\": {\"sale\": 10000, \"profit\": 2000.6},\n",
    "    \"butwal\": {\"sale\": 20000, \"profit\": 3000.3},\n",
    "    \"pokhara\": {\"sale\": 30000, \"profit\": 4500.8}\n",
    "}\n",
    "\n",
    "# def loadData():\n",
    "#     enter1 = str(input(\"Enter region: \"))\n",
    "#     enter2 = int(input(\"Enter sale: \"))\n",
    "#     enter3 = float(input(\"Enter profit: \"))\n",
    "\n",
    "#     market.update({enter1: {\"sale\":enter2, \"prfoit\": enter3}})\n",
    "#     for key, value in market.items():\n",
    "#         print(key, value)\n",
    "\n",
    "# loadData()\n",
    "\n",
    "print(market)"
   ]
  },
  {
   "cell_type": "code",
   "execution_count": 6,
   "id": "1d422345",
   "metadata": {},
   "outputs": [
    {
     "name": "stdout",
     "output_type": "stream",
     "text": [
      "I am from butwal\n"
     ]
    }
   ],
   "source": [
    "import country.nepal\n",
    "\n",
    "country.nepal.butwal()"
   ]
  },
  {
   "cell_type": "code",
   "execution_count": 2,
   "id": "01f01271",
   "metadata": {},
   "outputs": [
    {
     "name": "stdout",
     "output_type": "stream",
     "text": [
      "I am from california\n"
     ]
    },
    {
     "data": {
      "text/plain": [
       "'I am from newyork'"
      ]
     },
     "execution_count": 2,
     "metadata": {},
     "output_type": "execute_result"
    }
   ],
   "source": [
    "import country.usa\n",
    "\n",
    "country.usa.california()\n",
    "\n",
    "country.usa.newyork()\n"
   ]
  }
 ],
 "metadata": {
  "kernelspec": {
   "display_name": "virtualEnv",
   "language": "python",
   "name": "python3"
  },
  "language_info": {
   "codemirror_mode": {
    "name": "ipython",
    "version": 3
   },
   "file_extension": ".py",
   "mimetype": "text/x-python",
   "name": "python",
   "nbconvert_exporter": "python",
   "pygments_lexer": "ipython3",
   "version": "3.13.7"
  }
 },
 "nbformat": 4,
 "nbformat_minor": 5
}
